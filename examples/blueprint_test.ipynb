{
 "cells": [
  {
   "cell_type": "code",
   "execution_count": 27,
   "metadata": {},
   "outputs": [],
   "source": [
    "%reload_ext magics.blueprint"
   ]
  },
  {
   "cell_type": "code",
   "execution_count": 27,
   "metadata": {},
   "outputs": [],
   "source": [
    "%%register_input\n",
    "# Supports comment\n",
    "testdata      /felles/bjornandre/test/fødsel\n",
    "andre_data    /ske/skatt/input"
   ]
  },
  {
   "cell_type": "code",
   "execution_count": 28,
   "metadata": {},
   "outputs": [],
   "source": [
    "%%register_output\n",
    "mellomlager   /felles/bjornandre/test/output\n",
    "bearbeidet    /ske/skatt/output"
   ]
  },
  {
   "cell_type": "code",
   "execution_count": 40,
   "metadata": {},
   "outputs": [
    {
     "data": {
      "text/plain": [
       "{'testdata': {'value': '/felles/bjornandre/test/fødsel', 'hitCount': 1},\n",
       " 'andre_data': {'value': '/ske/skatt/input', 'hitCount': 0}}"
      ]
     },
     "execution_count": 40,
     "metadata": {},
     "output_type": "execute_result"
    }
   ],
   "source": [
    "__input_datasets"
   ]
  },
  {
   "cell_type": "code",
   "execution_count": 43,
   "metadata": {},
   "outputs": [
    {
     "data": {
      "text/plain": [
       "{'mellomlager': {'value': '/felles/bjornandre/test/output', 'hitCount': 3},\n",
       " 'bearbeidet': {'value': '/ske/skatt/output', 'hitCount': 0}}"
      ]
     },
     "execution_count": 43,
     "metadata": {},
     "output_type": "execute_result"
    }
   ],
   "source": [
    "__output_datasets   "
   ]
  },
  {
   "cell_type": "code",
   "execution_count": 39,
   "metadata": {},
   "outputs": [
    {
     "name": "stdout",
     "output_type": "stream",
     "text": [
      "+-------------------+-----------+-------------------+\n",
      "|personidentifikator|foedselsaar|timestamp          |\n",
      "+-------------------+-----------+-------------------+\n",
      "|12071950857        |2020       |2020-05-19 18:44:43|\n",
      "|10052300393        |1918       |2019-04-27 13:22:33|\n",
      "+-------------------+-----------+-------------------+\n",
      "\n"
     ]
    }
   ],
   "source": [
    "from magics.blueprint import Blueprint\n",
    "\n",
    "ds = spark.read.path(Blueprint._get_input(\"testdata\"))\n",
    "ds.show(10, False)"
   ]
  },
  {
   "cell_type": "code",
   "execution_count": 7,
   "metadata": {},
   "outputs": [
    {
     "data": {
      "text/plain": [
       "{'testdata': {'value': '/felles/bjornandre/test/fødsel', 'hitCount': 1},\n",
       " 'andre_data': {'value': '/ske/skatt/input', 'hitCount': 0}}"
      ]
     },
     "execution_count": 7,
     "metadata": {},
     "output_type": "execute_result"
    }
   ],
   "source": [
    "__ssb_input_datasets"
   ]
  },
  {
   "cell_type": "code",
   "execution_count": 42,
   "metadata": {},
   "outputs": [
    {
     "data": {
      "text/plain": [
       "'/felles/bjornandre/test/output'"
      ]
     },
     "execution_count": 42,
     "metadata": {},
     "output_type": "execute_result"
    }
   ],
   "source": [
    "%get_output mellomlager"
   ]
  },
  {
   "cell_type": "code",
   "execution_count": null,
   "metadata": {},
   "outputs": [],
   "source": []
  }
 ],
 "metadata": {
  "kernelspec": {
   "display_name": "Pyspark (local)",
   "language": "python",
   "name": "pyspark_local"
  },
  "language_info": {
   "codemirror_mode": {
    "name": "ipython",
    "version": 3
   },
   "file_extension": ".py",
   "mimetype": "text/x-python",
   "name": "python",
   "nbconvert_exporter": "python",
   "pygments_lexer": "ipython3",
   "version": "3.7.6"
  }
 },
 "nbformat": 4,
 "nbformat_minor": 4
}
